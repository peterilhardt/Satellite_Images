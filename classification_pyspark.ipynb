{
 "cells": [
  {
   "cell_type": "code",
   "execution_count": 1,
   "metadata": {},
   "outputs": [],
   "source": [
    "import numpy as np\n",
    "import pandas as pd\n",
    "import pickle\n",
    "import pyspark\n",
    "from pyspark.ml.feature import VectorAssembler, StringIndexer\n",
    "from pyspark.ml.classification import DecisionTreeClassifier, LinearSVC, RandomForestClassifier, OneVsRest\n",
    "from pyspark.ml.tuning import ParamGridBuilder, CrossValidator\n",
    "from pyspark.ml.evaluation import MulticlassClassificationEvaluator"
   ]
  },
  {
   "cell_type": "code",
   "execution_count": 2,
   "metadata": {},
   "outputs": [
    {
     "name": "stdout",
     "output_type": "stream",
     "text": [
      "(21600, 120) (5400, 120)\n"
     ]
    }
   ],
   "source": [
    "X_train = pickle.load(open('RGB_train_reduce.pickle', 'rb'))\n",
    "X_test = pickle.load(open('RGB_test_reduce.pickle', 'rb'))\n",
    "y_train = pickle.load(open('RGB_train_labels.pickle', 'rb'))\n",
    "y_test = pickle.load(open('RGB_test_labels.pickle', 'rb'))\n",
    "\n",
    "print(X_train.shape, X_test.shape)"
   ]
  },
  {
   "cell_type": "code",
   "execution_count": 3,
   "metadata": {},
   "outputs": [],
   "source": [
    "spark = pyspark.sql.SparkSession.builder.master('local[*]').getOrCreate()  # new context"
   ]
  },
  {
   "cell_type": "code",
   "execution_count": 38,
   "metadata": {},
   "outputs": [
    {
     "data": {
      "text/html": [
       "<div>\n",
       "<style scoped>\n",
       "    .dataframe tbody tr th:only-of-type {\n",
       "        vertical-align: middle;\n",
       "    }\n",
       "\n",
       "    .dataframe tbody tr th {\n",
       "        vertical-align: top;\n",
       "    }\n",
       "\n",
       "    .dataframe thead th {\n",
       "        text-align: right;\n",
       "    }\n",
       "</style>\n",
       "<table border=\"1\" class=\"dataframe\">\n",
       "  <thead>\n",
       "    <tr style=\"text-align: right;\">\n",
       "      <th></th>\n",
       "      <th>label</th>\n",
       "      <th>0</th>\n",
       "      <th>1</th>\n",
       "      <th>2</th>\n",
       "      <th>3</th>\n",
       "    </tr>\n",
       "  </thead>\n",
       "  <tbody>\n",
       "    <tr>\n",
       "      <th>0</th>\n",
       "      <td>AnnualCrop</td>\n",
       "      <td>-1416.319604</td>\n",
       "      <td>-257.642085</td>\n",
       "      <td>382.648921</td>\n",
       "      <td>-446.744537</td>\n",
       "    </tr>\n",
       "    <tr>\n",
       "      <th>1</th>\n",
       "      <td>Forest</td>\n",
       "      <td>-4564.012617</td>\n",
       "      <td>232.017194</td>\n",
       "      <td>-172.520511</td>\n",
       "      <td>-265.605766</td>\n",
       "    </tr>\n",
       "    <tr>\n",
       "      <th>2</th>\n",
       "      <td>SeaLake</td>\n",
       "      <td>1467.440003</td>\n",
       "      <td>-607.687599</td>\n",
       "      <td>482.082708</td>\n",
       "      <td>1050.886258</td>\n",
       "    </tr>\n",
       "    <tr>\n",
       "      <th>3</th>\n",
       "      <td>Residential</td>\n",
       "      <td>5906.549777</td>\n",
       "      <td>-149.513881</td>\n",
       "      <td>92.945077</td>\n",
       "      <td>266.333431</td>\n",
       "    </tr>\n",
       "    <tr>\n",
       "      <th>4</th>\n",
       "      <td>Industrial</td>\n",
       "      <td>3428.028145</td>\n",
       "      <td>-1264.509012</td>\n",
       "      <td>-123.286326</td>\n",
       "      <td>245.533198</td>\n",
       "    </tr>\n",
       "  </tbody>\n",
       "</table>\n",
       "</div>"
      ],
      "text/plain": [
       "         label            0            1           2            3\n",
       "0   AnnualCrop -1416.319604  -257.642085  382.648921  -446.744537\n",
       "1       Forest -4564.012617   232.017194 -172.520511  -265.605766\n",
       "2      SeaLake  1467.440003  -607.687599  482.082708  1050.886258\n",
       "3  Residential  5906.549777  -149.513881   92.945077   266.333431\n",
       "4   Industrial  3428.028145 -1264.509012 -123.286326   245.533198"
      ]
     },
     "execution_count": 38,
     "metadata": {},
     "output_type": "execute_result"
    }
   ],
   "source": [
    "train = pd.concat((pd.DataFrame(y_train, columns = ['label']), pd.DataFrame(X_train)), axis = 1)\n",
    "test = pd.concat((pd.DataFrame(y_test, columns = ['label']), pd.DataFrame(X_test)), axis = 1)\n",
    "train.iloc[0:5, 0:5]"
   ]
  },
  {
   "cell_type": "code",
   "execution_count": 39,
   "metadata": {},
   "outputs": [
    {
     "name": "stdout",
     "output_type": "stream",
     "text": [
      "root\n",
      " |-- label: string (nullable = true)\n",
      " |-- 0: double (nullable = true)\n",
      " |-- 1: double (nullable = true)\n",
      " |-- 2: double (nullable = true)\n",
      " |-- 3: double (nullable = true)\n",
      " |-- 4: double (nullable = true)\n",
      " |-- 5: double (nullable = true)\n",
      " |-- 6: double (nullable = true)\n",
      " |-- 7: double (nullable = true)\n",
      " |-- 8: double (nullable = true)\n",
      " |-- 9: double (nullable = true)\n",
      " |-- 10: double (nullable = true)\n",
      " |-- 11: double (nullable = true)\n",
      " |-- 12: double (nullable = true)\n",
      " |-- 13: double (nullable = true)\n",
      " |-- 14: double (nullable = true)\n",
      " |-- 15: double (nullable = true)\n",
      " |-- 16: double (nullable = true)\n",
      " |-- 17: double (nullable = true)\n",
      " |-- 18: double (nullable = true)\n",
      " |-- 19: double (nullable = true)\n",
      " |-- 20: double (nullable = true)\n",
      " |-- 21: double (nullable = true)\n",
      " |-- 22: double (nullable = true)\n",
      " |-- 23: double (nullable = true)\n",
      " |-- 24: double (nullable = true)\n",
      " |-- 25: double (nullable = true)\n",
      " |-- 26: double (nullable = true)\n",
      " |-- 27: double (nullable = true)\n",
      " |-- 28: double (nullable = true)\n",
      " |-- 29: double (nullable = true)\n",
      " |-- 30: double (nullable = true)\n",
      " |-- 31: double (nullable = true)\n",
      " |-- 32: double (nullable = true)\n",
      " |-- 33: double (nullable = true)\n",
      " |-- 34: double (nullable = true)\n",
      " |-- 35: double (nullable = true)\n",
      " |-- 36: double (nullable = true)\n",
      " |-- 37: double (nullable = true)\n",
      " |-- 38: double (nullable = true)\n",
      " |-- 39: double (nullable = true)\n",
      " |-- 40: double (nullable = true)\n",
      " |-- 41: double (nullable = true)\n",
      " |-- 42: double (nullable = true)\n",
      " |-- 43: double (nullable = true)\n",
      " |-- 44: double (nullable = true)\n",
      " |-- 45: double (nullable = true)\n",
      " |-- 46: double (nullable = true)\n",
      " |-- 47: double (nullable = true)\n",
      " |-- 48: double (nullable = true)\n",
      " |-- 49: double (nullable = true)\n",
      " |-- 50: double (nullable = true)\n",
      " |-- 51: double (nullable = true)\n",
      " |-- 52: double (nullable = true)\n",
      " |-- 53: double (nullable = true)\n",
      " |-- 54: double (nullable = true)\n",
      " |-- 55: double (nullable = true)\n",
      " |-- 56: double (nullable = true)\n",
      " |-- 57: double (nullable = true)\n",
      " |-- 58: double (nullable = true)\n",
      " |-- 59: double (nullable = true)\n",
      " |-- 60: double (nullable = true)\n",
      " |-- 61: double (nullable = true)\n",
      " |-- 62: double (nullable = true)\n",
      " |-- 63: double (nullable = true)\n",
      " |-- 64: double (nullable = true)\n",
      " |-- 65: double (nullable = true)\n",
      " |-- 66: double (nullable = true)\n",
      " |-- 67: double (nullable = true)\n",
      " |-- 68: double (nullable = true)\n",
      " |-- 69: double (nullable = true)\n",
      " |-- 70: double (nullable = true)\n",
      " |-- 71: double (nullable = true)\n",
      " |-- 72: double (nullable = true)\n",
      " |-- 73: double (nullable = true)\n",
      " |-- 74: double (nullable = true)\n",
      " |-- 75: double (nullable = true)\n",
      " |-- 76: double (nullable = true)\n",
      " |-- 77: double (nullable = true)\n",
      " |-- 78: double (nullable = true)\n",
      " |-- 79: double (nullable = true)\n",
      " |-- 80: double (nullable = true)\n",
      " |-- 81: double (nullable = true)\n",
      " |-- 82: double (nullable = true)\n",
      " |-- 83: double (nullable = true)\n",
      " |-- 84: double (nullable = true)\n",
      " |-- 85: double (nullable = true)\n",
      " |-- 86: double (nullable = true)\n",
      " |-- 87: double (nullable = true)\n",
      " |-- 88: double (nullable = true)\n",
      " |-- 89: double (nullable = true)\n",
      " |-- 90: double (nullable = true)\n",
      " |-- 91: double (nullable = true)\n",
      " |-- 92: double (nullable = true)\n",
      " |-- 93: double (nullable = true)\n",
      " |-- 94: double (nullable = true)\n",
      " |-- 95: double (nullable = true)\n",
      " |-- 96: double (nullable = true)\n",
      " |-- 97: double (nullable = true)\n",
      " |-- 98: double (nullable = true)\n",
      " |-- 99: double (nullable = true)\n",
      " |-- 100: double (nullable = true)\n",
      " |-- 101: double (nullable = true)\n",
      " |-- 102: double (nullable = true)\n",
      " |-- 103: double (nullable = true)\n",
      " |-- 104: double (nullable = true)\n",
      " |-- 105: double (nullable = true)\n",
      " |-- 106: double (nullable = true)\n",
      " |-- 107: double (nullable = true)\n",
      " |-- 108: double (nullable = true)\n",
      " |-- 109: double (nullable = true)\n",
      " |-- 110: double (nullable = true)\n",
      " |-- 111: double (nullable = true)\n",
      " |-- 112: double (nullable = true)\n",
      " |-- 113: double (nullable = true)\n",
      " |-- 114: double (nullable = true)\n",
      " |-- 115: double (nullable = true)\n",
      " |-- 116: double (nullable = true)\n",
      " |-- 117: double (nullable = true)\n",
      " |-- 118: double (nullable = true)\n",
      " |-- 119: double (nullable = true)\n",
      "\n"
     ]
    }
   ],
   "source": [
    "train = spark.createDataFrame(train)\n",
    "test = spark.createDataFrame(test)\n",
    "train.printSchema()"
   ]
  },
  {
   "cell_type": "code",
   "execution_count": 40,
   "metadata": {},
   "outputs": [],
   "source": [
    "def preview(df, n = 5):\n",
    "    return pd.DataFrame(df.take(n), columns = df.columns).iloc[:, 0:5]"
   ]
  },
  {
   "cell_type": "code",
   "execution_count": 41,
   "metadata": {},
   "outputs": [
    {
     "data": {
      "text/html": [
       "<div>\n",
       "<style scoped>\n",
       "    .dataframe tbody tr th:only-of-type {\n",
       "        vertical-align: middle;\n",
       "    }\n",
       "\n",
       "    .dataframe tbody tr th {\n",
       "        vertical-align: top;\n",
       "    }\n",
       "\n",
       "    .dataframe thead th {\n",
       "        text-align: right;\n",
       "    }\n",
       "</style>\n",
       "<table border=\"1\" class=\"dataframe\">\n",
       "  <thead>\n",
       "    <tr style=\"text-align: right;\">\n",
       "      <th></th>\n",
       "      <th>label</th>\n",
       "      <th>0</th>\n",
       "      <th>1</th>\n",
       "      <th>2</th>\n",
       "      <th>3</th>\n",
       "    </tr>\n",
       "  </thead>\n",
       "  <tbody>\n",
       "    <tr>\n",
       "      <th>0</th>\n",
       "      <td>AnnualCrop</td>\n",
       "      <td>-1416.319604</td>\n",
       "      <td>-257.642085</td>\n",
       "      <td>382.648921</td>\n",
       "      <td>-446.744537</td>\n",
       "    </tr>\n",
       "    <tr>\n",
       "      <th>1</th>\n",
       "      <td>Forest</td>\n",
       "      <td>-4564.012617</td>\n",
       "      <td>232.017194</td>\n",
       "      <td>-172.520511</td>\n",
       "      <td>-265.605766</td>\n",
       "    </tr>\n",
       "    <tr>\n",
       "      <th>2</th>\n",
       "      <td>SeaLake</td>\n",
       "      <td>1467.440003</td>\n",
       "      <td>-607.687599</td>\n",
       "      <td>482.082708</td>\n",
       "      <td>1050.886258</td>\n",
       "    </tr>\n",
       "    <tr>\n",
       "      <th>3</th>\n",
       "      <td>Residential</td>\n",
       "      <td>5906.549777</td>\n",
       "      <td>-149.513881</td>\n",
       "      <td>92.945077</td>\n",
       "      <td>266.333431</td>\n",
       "    </tr>\n",
       "    <tr>\n",
       "      <th>4</th>\n",
       "      <td>Industrial</td>\n",
       "      <td>3428.028145</td>\n",
       "      <td>-1264.509012</td>\n",
       "      <td>-123.286326</td>\n",
       "      <td>245.533198</td>\n",
       "    </tr>\n",
       "  </tbody>\n",
       "</table>\n",
       "</div>"
      ],
      "text/plain": [
       "         label            0            1           2            3\n",
       "0   AnnualCrop -1416.319604  -257.642085  382.648921  -446.744537\n",
       "1       Forest -4564.012617   232.017194 -172.520511  -265.605766\n",
       "2      SeaLake  1467.440003  -607.687599  482.082708  1050.886258\n",
       "3  Residential  5906.549777  -149.513881   92.945077   266.333431\n",
       "4   Industrial  3428.028145 -1264.509012 -123.286326   245.533198"
      ]
     },
     "execution_count": 41,
     "metadata": {},
     "output_type": "execute_result"
    }
   ],
   "source": [
    "preview(train)"
   ]
  },
  {
   "cell_type": "code",
   "execution_count": 42,
   "metadata": {},
   "outputs": [
    {
     "name": "stdout",
     "output_type": "stream",
     "text": [
      "+------+------------------+\n",
      "| label|                 0|\n",
      "+------+------------------+\n",
      "|Forest|-4564.012617036548|\n",
      "|Forest| -4618.90154239226|\n",
      "|Forest|-4449.486284594558|\n",
      "|Forest|-4390.513730199147|\n",
      "|Forest|-4143.358269656351|\n",
      "+------+------------------+\n",
      "only showing top 5 rows\n",
      "\n"
     ]
    }
   ],
   "source": [
    "train.filter(train.label == 'Forest').select(['label', '0']).show(5)"
   ]
  },
  {
   "cell_type": "code",
   "execution_count": 43,
   "metadata": {},
   "outputs": [],
   "source": [
    "features = train.schema.names[1:]  # feature columns\n",
    "assembler = VectorAssembler(inputCols = features, outputCol = 'features')\n",
    "train_condense = assembler.transform(train)\n",
    "test_condense = assembler.transform(test)\n",
    "\n",
    "for field in features:\n",
    "    train_condense = train_condense.drop(field)\n",
    "    test_condense  = test_condense.drop(field)"
   ]
  },
  {
   "cell_type": "code",
   "execution_count": 44,
   "metadata": {},
   "outputs": [],
   "source": [
    "# Convert the labels to floats\n",
    "si = StringIndexer(inputCol = 'label', outputCol = 'label_float')\n",
    "si_model = si.fit(train_condense)\n",
    "\n",
    "train_condense = si_model.transform(train_condense)\n",
    "test_condense = si_model.transform(test_condense)\n",
    "\n",
    "# Drop the string column and rename the numerical one to 'label'\n",
    "train_condense = train_condense.drop('label').withColumnRenamed('label_float', 'label')\n",
    "test_condense = test_condense.drop('label').withColumnRenamed('label_float', 'label')"
   ]
  },
  {
   "cell_type": "code",
   "execution_count": 45,
   "metadata": {},
   "outputs": [
    {
     "data": {
      "text/html": [
       "<div>\n",
       "<style scoped>\n",
       "    .dataframe tbody tr th:only-of-type {\n",
       "        vertical-align: middle;\n",
       "    }\n",
       "\n",
       "    .dataframe tbody tr th {\n",
       "        vertical-align: top;\n",
       "    }\n",
       "\n",
       "    .dataframe thead th {\n",
       "        text-align: right;\n",
       "    }\n",
       "</style>\n",
       "<table border=\"1\" class=\"dataframe\">\n",
       "  <thead>\n",
       "    <tr style=\"text-align: right;\">\n",
       "      <th></th>\n",
       "      <th>features</th>\n",
       "      <th>label</th>\n",
       "    </tr>\n",
       "  </thead>\n",
       "  <tbody>\n",
       "    <tr>\n",
       "      <th>0</th>\n",
       "      <td>[-1416.3196041218278, -257.6420849554097, 382....</td>\n",
       "      <td>1.0</td>\n",
       "    </tr>\n",
       "    <tr>\n",
       "      <th>1</th>\n",
       "      <td>[-4564.012617036548, 232.01719434779352, -172....</td>\n",
       "      <td>4.0</td>\n",
       "    </tr>\n",
       "    <tr>\n",
       "      <th>2</th>\n",
       "      <td>[1467.4400031629802, -607.6875987440877, 482.0...</td>\n",
       "      <td>2.0</td>\n",
       "    </tr>\n",
       "    <tr>\n",
       "      <th>3</th>\n",
       "      <td>[5906.549776707974, -149.5138807170132, 92.945...</td>\n",
       "      <td>0.0</td>\n",
       "    </tr>\n",
       "    <tr>\n",
       "      <th>4</th>\n",
       "      <td>[3428.0281451156866, -1264.5090124886615, -123...</td>\n",
       "      <td>6.0</td>\n",
       "    </tr>\n",
       "  </tbody>\n",
       "</table>\n",
       "</div>"
      ],
      "text/plain": [
       "                                            features  label\n",
       "0  [-1416.3196041218278, -257.6420849554097, 382....    1.0\n",
       "1  [-4564.012617036548, 232.01719434779352, -172....    4.0\n",
       "2  [1467.4400031629802, -607.6875987440877, 482.0...    2.0\n",
       "3  [5906.549776707974, -149.5138807170132, 92.945...    0.0\n",
       "4  [3428.0281451156866, -1264.5090124886615, -123...    6.0"
      ]
     },
     "execution_count": 45,
     "metadata": {},
     "output_type": "execute_result"
    }
   ],
   "source": [
    "preview(train_condense)"
   ]
  },
  {
   "cell_type": "code",
   "execution_count": null,
   "metadata": {},
   "outputs": [],
   "source": [
    "tree = DecisionTreeClassifier(maxDepth = 5, minInstancesPerNode = 5).fit(train_condense)\n",
    "tree_pred = tree.transform(test_condense)"
   ]
  },
  {
   "cell_type": "code",
   "execution_count": 47,
   "metadata": {},
   "outputs": [
    {
     "data": {
      "text/html": [
       "<div>\n",
       "<style scoped>\n",
       "    .dataframe tbody tr th:only-of-type {\n",
       "        vertical-align: middle;\n",
       "    }\n",
       "\n",
       "    .dataframe tbody tr th {\n",
       "        vertical-align: top;\n",
       "    }\n",
       "\n",
       "    .dataframe thead th {\n",
       "        text-align: right;\n",
       "    }\n",
       "</style>\n",
       "<table border=\"1\" class=\"dataframe\">\n",
       "  <thead>\n",
       "    <tr style=\"text-align: right;\">\n",
       "      <th></th>\n",
       "      <th>features</th>\n",
       "      <th>label</th>\n",
       "      <th>rawPrediction</th>\n",
       "      <th>probability</th>\n",
       "      <th>prediction</th>\n",
       "    </tr>\n",
       "  </thead>\n",
       "  <tbody>\n",
       "    <tr>\n",
       "      <th>0</th>\n",
       "      <td>[3127.221905557597, -1098.5030441349777, 1070....</td>\n",
       "      <td>6.0</td>\n",
       "      <td>[11.0, 31.0, 5.0, 10.0, 0.0, 10.0, 602.0, 10.0...</td>\n",
       "      <td>[0.015942028985507246, 0.04492753623188406, 0....</td>\n",
       "      <td>6.0</td>\n",
       "    </tr>\n",
       "    <tr>\n",
       "      <th>1</th>\n",
       "      <td>[-5202.2362898898045, 116.5073389911345, -291....</td>\n",
       "      <td>4.0</td>\n",
       "      <td>[0.0, 4.0, 6.0, 7.0, 37.0, 10.0, 0.0, 70.0, 0....</td>\n",
       "      <td>[0.0, 0.026143790849673203, 0.0392156862745098...</td>\n",
       "      <td>7.0</td>\n",
       "    </tr>\n",
       "    <tr>\n",
       "      <th>2</th>\n",
       "      <td>[-1498.8714233595265, 679.1006007327401, 111.6...</td>\n",
       "      <td>5.0</td>\n",
       "      <td>[141.0, 41.0, 186.0, 204.0, 103.0, 327.0, 0.0,...</td>\n",
       "      <td>[0.07863915225878416, 0.02286670384829894, 0.1...</td>\n",
       "      <td>7.0</td>\n",
       "    </tr>\n",
       "    <tr>\n",
       "      <th>3</th>\n",
       "      <td>[-5118.9629494324145, 185.18077070886073, -117...</td>\n",
       "      <td>4.0</td>\n",
       "      <td>[0.0, 11.0, 192.0, 20.0, 1924.0, 36.0, 0.0, 10...</td>\n",
       "      <td>[0.0, 0.00466893039049236, 0.08149405772495756...</td>\n",
       "      <td>4.0</td>\n",
       "    </tr>\n",
       "    <tr>\n",
       "      <th>4</th>\n",
       "      <td>[-1875.9314698926842, 160.99124884573897, -601...</td>\n",
       "      <td>9.0</td>\n",
       "      <td>[6.0, 164.0, 218.0, 72.0, 127.0, 144.0, 1.0, 1...</td>\n",
       "      <td>[0.003424657534246575, 0.09360730593607305, 0....</td>\n",
       "      <td>9.0</td>\n",
       "    </tr>\n",
       "  </tbody>\n",
       "</table>\n",
       "</div>"
      ],
      "text/plain": [
       "                                            features  label  \\\n",
       "0  [3127.221905557597, -1098.5030441349777, 1070....    6.0   \n",
       "1  [-5202.2362898898045, 116.5073389911345, -291....    4.0   \n",
       "2  [-1498.8714233595265, 679.1006007327401, 111.6...    5.0   \n",
       "3  [-5118.9629494324145, 185.18077070886073, -117...    4.0   \n",
       "4  [-1875.9314698926842, 160.99124884573897, -601...    9.0   \n",
       "\n",
       "                                       rawPrediction  \\\n",
       "0  [11.0, 31.0, 5.0, 10.0, 0.0, 10.0, 602.0, 10.0...   \n",
       "1  [0.0, 4.0, 6.0, 7.0, 37.0, 10.0, 0.0, 70.0, 0....   \n",
       "2  [141.0, 41.0, 186.0, 204.0, 103.0, 327.0, 0.0,...   \n",
       "3  [0.0, 11.0, 192.0, 20.0, 1924.0, 36.0, 0.0, 10...   \n",
       "4  [6.0, 164.0, 218.0, 72.0, 127.0, 144.0, 1.0, 1...   \n",
       "\n",
       "                                         probability  prediction  \n",
       "0  [0.015942028985507246, 0.04492753623188406, 0....         6.0  \n",
       "1  [0.0, 0.026143790849673203, 0.0392156862745098...         7.0  \n",
       "2  [0.07863915225878416, 0.02286670384829894, 0.1...         7.0  \n",
       "3  [0.0, 0.00466893039049236, 0.08149405772495756...         4.0  \n",
       "4  [0.003424657534246575, 0.09360730593607305, 0....         9.0  "
      ]
     },
     "execution_count": 47,
     "metadata": {},
     "output_type": "execute_result"
    }
   ],
   "source": [
    "preview(tree_pred)"
   ]
  },
  {
   "cell_type": "code",
   "execution_count": 48,
   "metadata": {},
   "outputs": [
    {
     "data": {
      "text/plain": [
       "0.4653703703703704"
      ]
     },
     "execution_count": 48,
     "metadata": {},
     "output_type": "execute_result"
    }
   ],
   "source": [
    "evaluator = MulticlassClassificationEvaluator(metricName = 'accuracy')\n",
    "accuracy = evaluator.evaluate(tree_pred)\n",
    "accuracy"
   ]
  },
  {
   "cell_type": "code",
   "execution_count": 49,
   "metadata": {},
   "outputs": [],
   "source": [
    "SVC = LinearSVC(regParam = 1, standardization = False)\n",
    "OVR = OneVsRest(classifier = SVC, parallelism = 8)\n",
    "OVR_model = OVR.fit(train_condense)\n",
    "OVR_pred = OVR_model.transform(test_condense)"
   ]
  },
  {
   "cell_type": "code",
   "execution_count": 50,
   "metadata": {},
   "outputs": [
    {
     "data": {
      "text/html": [
       "<div>\n",
       "<style scoped>\n",
       "    .dataframe tbody tr th:only-of-type {\n",
       "        vertical-align: middle;\n",
       "    }\n",
       "\n",
       "    .dataframe tbody tr th {\n",
       "        vertical-align: top;\n",
       "    }\n",
       "\n",
       "    .dataframe thead th {\n",
       "        text-align: right;\n",
       "    }\n",
       "</style>\n",
       "<table border=\"1\" class=\"dataframe\">\n",
       "  <thead>\n",
       "    <tr style=\"text-align: right;\">\n",
       "      <th></th>\n",
       "      <th>features</th>\n",
       "      <th>label</th>\n",
       "      <th>prediction</th>\n",
       "    </tr>\n",
       "  </thead>\n",
       "  <tbody>\n",
       "    <tr>\n",
       "      <th>0</th>\n",
       "      <td>[3127.221905557597, -1098.5030441349777, 1070....</td>\n",
       "      <td>6.0</td>\n",
       "      <td>6.0</td>\n",
       "    </tr>\n",
       "    <tr>\n",
       "      <th>1</th>\n",
       "      <td>[-5202.2362898898045, 116.5073389911345, -291....</td>\n",
       "      <td>4.0</td>\n",
       "      <td>4.0</td>\n",
       "    </tr>\n",
       "    <tr>\n",
       "      <th>2</th>\n",
       "      <td>[-1498.8714233595265, 679.1006007327401, 111.6...</td>\n",
       "      <td>5.0</td>\n",
       "      <td>0.0</td>\n",
       "    </tr>\n",
       "    <tr>\n",
       "      <th>3</th>\n",
       "      <td>[-5118.9629494324145, 185.18077070886073, -117...</td>\n",
       "      <td>4.0</td>\n",
       "      <td>4.0</td>\n",
       "    </tr>\n",
       "    <tr>\n",
       "      <th>4</th>\n",
       "      <td>[-1875.9314698926842, 160.99124884573897, -601...</td>\n",
       "      <td>9.0</td>\n",
       "      <td>8.0</td>\n",
       "    </tr>\n",
       "  </tbody>\n",
       "</table>\n",
       "</div>"
      ],
      "text/plain": [
       "                                            features  label  prediction\n",
       "0  [3127.221905557597, -1098.5030441349777, 1070....    6.0         6.0\n",
       "1  [-5202.2362898898045, 116.5073389911345, -291....    4.0         4.0\n",
       "2  [-1498.8714233595265, 679.1006007327401, 111.6...    5.0         0.0\n",
       "3  [-5118.9629494324145, 185.18077070886073, -117...    4.0         4.0\n",
       "4  [-1875.9314698926842, 160.99124884573897, -601...    9.0         8.0"
      ]
     },
     "execution_count": 50,
     "metadata": {},
     "output_type": "execute_result"
    }
   ],
   "source": [
    "preview(OVR_pred)"
   ]
  },
  {
   "cell_type": "code",
   "execution_count": 51,
   "metadata": {},
   "outputs": [
    {
     "data": {
      "text/plain": [
       "0.35814814814814816"
      ]
     },
     "execution_count": 51,
     "metadata": {},
     "output_type": "execute_result"
    }
   ],
   "source": [
    "SVC_acc = evaluator.evaluate(OVR_pred)\n",
    "SVC_acc"
   ]
  },
  {
   "cell_type": "code",
   "execution_count": 53,
   "metadata": {},
   "outputs": [],
   "source": [
    "dsift_feat_train = pickle.load(open('dsift_train_reduce.pickle', 'rb'))\n",
    "dsift_feat_test = pickle.load(open('dsift_test_reduce.pickle', 'rb'))\n",
    "dsift_labels_train = pickle.load(open('dsift_train_labels.pickle', 'rb'))\n",
    "dsift_labels_test = pickle.load(open('dsift_test_labels.pickle', 'rb'))\n",
    "\n",
    "dsift_train = pd.concat((pd.DataFrame(dsift_labels_train, columns = ['label']), \n",
    "                         pd.DataFrame(dsift_feat_train)), axis = 1)\n",
    "dsift_test = pd.concat((pd.DataFrame(dsift_labels_test, columns = ['label']), \n",
    "                        pd.DataFrame(dsift_feat_test)), axis = 1)\n",
    "\n",
    "dsift_train = spark.createDataFrame(dsift_train)\n",
    "dsift_test = spark.createDataFrame(dsift_test)"
   ]
  },
  {
   "cell_type": "code",
   "execution_count": 54,
   "metadata": {},
   "outputs": [],
   "source": [
    "dsift_features = dsift_train.schema.names[1:]  # feature columns\n",
    "dsift_assembler = VectorAssembler(inputCols = dsift_features, outputCol = 'features')\n",
    "dsift_train_condense = dsift_assembler.transform(dsift_train)\n",
    "dsift_test_condense = dsift_assembler.transform(dsift_test)\n",
    "\n",
    "for field in dsift_features:\n",
    "    dsift_train_condense = dsift_train_condense.drop(field)\n",
    "    dsift_test_condense  = dsift_test_condense.drop(field)\n",
    "\n",
    "dsift_si = StringIndexer(inputCol = 'label', outputCol = 'label_float')\n",
    "dsift_si_model = dsift_si.fit(dsift_train_condense)\n",
    "dsift_train_condense = dsift_si_model.transform(dsift_train_condense)\n",
    "dsift_test_condense = dsift_si_model.transform(dsift_test_condense)\n",
    "dsift_train_condense = dsift_train_condense.drop('label').withColumnRenamed('label_float', 'label')\n",
    "dsift_test_condense = dsift_test_condense.drop('label').withColumnRenamed('label_float', 'label')"
   ]
  },
  {
   "cell_type": "code",
   "execution_count": 55,
   "metadata": {},
   "outputs": [
    {
     "data": {
      "text/html": [
       "<div>\n",
       "<style scoped>\n",
       "    .dataframe tbody tr th:only-of-type {\n",
       "        vertical-align: middle;\n",
       "    }\n",
       "\n",
       "    .dataframe tbody tr th {\n",
       "        vertical-align: top;\n",
       "    }\n",
       "\n",
       "    .dataframe thead th {\n",
       "        text-align: right;\n",
       "    }\n",
       "</style>\n",
       "<table border=\"1\" class=\"dataframe\">\n",
       "  <thead>\n",
       "    <tr style=\"text-align: right;\">\n",
       "      <th></th>\n",
       "      <th>features</th>\n",
       "      <th>label</th>\n",
       "    </tr>\n",
       "  </thead>\n",
       "  <tbody>\n",
       "    <tr>\n",
       "      <th>0</th>\n",
       "      <td>[317.81890869140625, 997.9087524414062, -400.8...</td>\n",
       "      <td>1.0</td>\n",
       "    </tr>\n",
       "    <tr>\n",
       "      <th>1</th>\n",
       "      <td>[-340.1216125488281, -42.97116470336914, 177.8...</td>\n",
       "      <td>4.0</td>\n",
       "    </tr>\n",
       "    <tr>\n",
       "      <th>2</th>\n",
       "      <td>[-83.17477416992188, -468.1846008300781, 117.6...</td>\n",
       "      <td>2.0</td>\n",
       "    </tr>\n",
       "    <tr>\n",
       "      <th>3</th>\n",
       "      <td>[-226.61183166503906, -193.66929626464844, -53...</td>\n",
       "      <td>0.0</td>\n",
       "    </tr>\n",
       "    <tr>\n",
       "      <th>4</th>\n",
       "      <td>[249.69735717773438, 397.8346252441406, -909.8...</td>\n",
       "      <td>6.0</td>\n",
       "    </tr>\n",
       "  </tbody>\n",
       "</table>\n",
       "</div>"
      ],
      "text/plain": [
       "                                            features  label\n",
       "0  [317.81890869140625, 997.9087524414062, -400.8...    1.0\n",
       "1  [-340.1216125488281, -42.97116470336914, 177.8...    4.0\n",
       "2  [-83.17477416992188, -468.1846008300781, 117.6...    2.0\n",
       "3  [-226.61183166503906, -193.66929626464844, -53...    0.0\n",
       "4  [249.69735717773438, 397.8346252441406, -909.8...    6.0"
      ]
     },
     "execution_count": 55,
     "metadata": {},
     "output_type": "execute_result"
    }
   ],
   "source": [
    "preview(dsift_train_condense)"
   ]
  },
  {
   "cell_type": "code",
   "execution_count": 56,
   "metadata": {},
   "outputs": [
    {
     "data": {
      "text/plain": [
       "0.3131481481481482"
      ]
     },
     "execution_count": 56,
     "metadata": {},
     "output_type": "execute_result"
    }
   ],
   "source": [
    "tree2 = DecisionTreeClassifier(maxDepth = 5, minInstancesPerNode = 5).fit(dsift_train_condense)\n",
    "tree2_pred = tree2.transform(dsift_test_condense)\n",
    "dsift_accuracy = evaluator.evaluate(tree2_pred)\n",
    "dsift_accuracy"
   ]
  },
  {
   "cell_type": "code",
   "execution_count": 57,
   "metadata": {},
   "outputs": [
    {
     "data": {
      "text/plain": [
       "0.5187037037037037"
      ]
     },
     "execution_count": 57,
     "metadata": {},
     "output_type": "execute_result"
    }
   ],
   "source": [
    "RF = RandomForestClassifier(maxDepth = 5, numTrees = 100).fit(train_condense)\n",
    "RF_pred = RF.transform(test_condense)\n",
    "RF_acc = evaluator.evaluate(RF_pred)\n",
    "RF_acc"
   ]
  },
  {
   "cell_type": "code",
   "execution_count": 58,
   "metadata": {},
   "outputs": [
    {
     "data": {
      "text/plain": [
       "0.16203703703703703"
      ]
     },
     "execution_count": 58,
     "metadata": {},
     "output_type": "execute_result"
    }
   ],
   "source": [
    "RF2 = RandomForestClassifier(maxDepth = 5, numTrees = 100).fit(dsift_train_condense)\n",
    "RF2_pred = RF.transform(dsift_test_condense)\n",
    "RF2_acc = evaluator.evaluate(RF2_pred)\n",
    "RF2_acc"
   ]
  },
  {
   "cell_type": "code",
   "execution_count": 59,
   "metadata": {},
   "outputs": [
    {
     "data": {
      "text/html": [
       "<div>\n",
       "<style scoped>\n",
       "    .dataframe tbody tr th:only-of-type {\n",
       "        vertical-align: middle;\n",
       "    }\n",
       "\n",
       "    .dataframe tbody tr th {\n",
       "        vertical-align: top;\n",
       "    }\n",
       "\n",
       "    .dataframe thead th {\n",
       "        text-align: right;\n",
       "    }\n",
       "</style>\n",
       "<table border=\"1\" class=\"dataframe\">\n",
       "  <thead>\n",
       "    <tr style=\"text-align: right;\">\n",
       "      <th></th>\n",
       "      <th>accuracy</th>\n",
       "      <th>precision</th>\n",
       "      <th>recall</th>\n",
       "      <th>f1</th>\n",
       "    </tr>\n",
       "  </thead>\n",
       "  <tbody>\n",
       "    <tr>\n",
       "      <th>tree</th>\n",
       "      <td>0.465370</td>\n",
       "      <td>0.487072</td>\n",
       "      <td>0.465370</td>\n",
       "      <td>0.456837</td>\n",
       "    </tr>\n",
       "    <tr>\n",
       "      <th>SVM</th>\n",
       "      <td>0.358148</td>\n",
       "      <td>0.300723</td>\n",
       "      <td>0.358148</td>\n",
       "      <td>0.302938</td>\n",
       "    </tr>\n",
       "    <tr>\n",
       "      <th>RF</th>\n",
       "      <td>0.518704</td>\n",
       "      <td>0.547267</td>\n",
       "      <td>0.518704</td>\n",
       "      <td>0.462370</td>\n",
       "    </tr>\n",
       "    <tr>\n",
       "      <th>tree_dsift</th>\n",
       "      <td>0.313148</td>\n",
       "      <td>0.262925</td>\n",
       "      <td>0.313148</td>\n",
       "      <td>0.281069</td>\n",
       "    </tr>\n",
       "    <tr>\n",
       "      <th>RF_dsift</th>\n",
       "      <td>0.162037</td>\n",
       "      <td>0.099598</td>\n",
       "      <td>0.162037</td>\n",
       "      <td>0.092770</td>\n",
       "    </tr>\n",
       "  </tbody>\n",
       "</table>\n",
       "</div>"
      ],
      "text/plain": [
       "            accuracy  precision    recall        f1\n",
       "tree        0.465370   0.487072  0.465370  0.456837\n",
       "SVM         0.358148   0.300723  0.358148  0.302938\n",
       "RF          0.518704   0.547267  0.518704  0.462370\n",
       "tree_dsift  0.313148   0.262925  0.313148  0.281069\n",
       "RF_dsift    0.162037   0.099598  0.162037  0.092770"
      ]
     },
     "execution_count": 59,
     "metadata": {},
     "output_type": "execute_result"
    }
   ],
   "source": [
    "accuracy = MulticlassClassificationEvaluator(metricName = 'accuracy')\n",
    "precision = MulticlassClassificationEvaluator(metricName = 'weightedPrecision')\n",
    "recall = MulticlassClassificationEvaluator(metricName = 'weightedRecall')\n",
    "f1 = MulticlassClassificationEvaluator(metricName = 'f1')\n",
    "\n",
    "metrics = [accuracy, precision, recall, f1]\n",
    "metric_labels = ['accuracy', 'precision', 'recall', 'f1']\n",
    "\n",
    "eval_list = list()\n",
    "\n",
    "# the predictions from each model\n",
    "predictions = [tree_pred, OVR_pred, RF_pred, tree2_pred, RF2_pred]\n",
    "model_labels = ['tree', 'SVM', 'RF', 'tree_dsift', 'RF_dsift']\n",
    "\n",
    "# for each model's predictions, calculate error metrics and add to a Pandas Series\n",
    "for pred in zip(model_labels, predictions):\n",
    "    name = pred[0]\n",
    "    predict = pred[1]\n",
    "    \n",
    "    metric_vals = pd.Series(dict([(x[0], x[1].evaluate(predict)) \n",
    "                                  for x in zip(metric_labels, metrics)]),\n",
    "                            name = name)\n",
    "    eval_list.append(metric_vals)\n",
    "    \n",
    "# combine all Series into a DataFrame\n",
    "eval_df = pd.concat(eval_list, axis = 1).T\n",
    "eval_df = eval_df[metric_labels]\n",
    "eval_df"
   ]
  },
  {
   "cell_type": "code",
   "execution_count": null,
   "metadata": {},
   "outputs": [],
   "source": [
    "RF_model = RandomForestClassifier(numTrees = 100)\n",
    "\n",
    "paramgrid = (ParamGridBuilder().addGrid(RF_model.subsamplingRate, [0.5, 1])\\\n",
    "                               .addGrid(RF_model.maxDepth, [5, 10])\\\n",
    "                               .addGrid(RF_model.minInstancesPerNode, [1, 5]).build())\n",
    "\n",
    "# use 5-fold cross validation \n",
    "crossval = CrossValidator(estimator = RF_model, estimatorParamMaps = paramgrid, \n",
    "                          evaluator = accuracy, numFolds = 3)\n",
    "\n",
    "RF_model_cv = crossval.fit(train_condense)"
   ]
  },
  {
   "cell_type": "code",
   "execution_count": 4,
   "metadata": {},
   "outputs": [],
   "source": [
    "spark.stop()"
   ]
  },
  {
   "cell_type": "code",
   "execution_count": null,
   "metadata": {},
   "outputs": [],
   "source": []
  }
 ],
 "metadata": {
  "kernelspec": {
   "display_name": "Python 3",
   "language": "python",
   "name": "python3"
  },
  "language_info": {
   "codemirror_mode": {
    "name": "ipython",
    "version": 3
   },
   "file_extension": ".py",
   "mimetype": "text/x-python",
   "name": "python",
   "nbconvert_exporter": "python",
   "pygments_lexer": "ipython3",
   "version": "3.6.6"
  }
 },
 "nbformat": 4,
 "nbformat_minor": 2
}
